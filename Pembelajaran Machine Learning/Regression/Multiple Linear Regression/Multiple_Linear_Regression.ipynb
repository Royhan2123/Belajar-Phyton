{
  "nbformat": 4,
  "nbformat_minor": 0,
  "metadata": {
    "colab": {
      "provenance": []
    },
    "kernelspec": {
      "name": "python3",
      "display_name": "Python 3"
    },
    "language_info": {
      "name": "python"
    }
  },
  "cells": [
    {
      "cell_type": "markdown",
      "source": [
        "# Multiple Linear Regression"
      ],
      "metadata": {
        "id": "TmQspNPdYOhN"
      }
    },
    {
      "cell_type": "markdown",
      "source": [
        "### Import Library"
      ],
      "metadata": {
        "id": "WoehWClCYJBG"
      }
    },
    {
      "cell_type": "code",
      "execution_count": 2,
      "metadata": {
        "id": "fQsLL4u4RW9A"
      },
      "outputs": [],
      "source": [
        "import numpy as np\n",
        "import pandas as pd\n",
        "import matplotlib.pyplot as plt"
      ]
    },
    {
      "cell_type": "markdown",
      "source": [
        "### Import Dataset"
      ],
      "metadata": {
        "id": "EYD1jL3lKe8N"
      }
    },
    {
      "cell_type": "code",
      "source": [
        "dataset = pd.read_csv('50_Startups.csv')\n",
        "x = dataset.iloc[:, :-1].values\n",
        "y = dataset.iloc[:, -1].values"
      ],
      "metadata": {
        "id": "6SM6KgonnZcT"
      },
      "execution_count": 3,
      "outputs": []
    },
    {
      "cell_type": "code",
      "source": [
        "print(x)\n",
        "print(y)"
      ],
      "metadata": {
        "colab": {
          "base_uri": "https://localhost:8080/"
        },
        "id": "pVrp2PX8B0l9",
        "outputId": "cdb540b8-380f-4cd2-fde0-0898ea975bcb"
      },
      "execution_count": 23,
      "outputs": [
        {
          "output_type": "stream",
          "name": "stdout",
          "text": [
            "[[1.65e+05 1.37e+05 4.72e+05 2.00e+00]\n",
            " [1.63e+05 1.51e+05 4.44e+05 0.00e+00]\n",
            " [1.53e+05 1.01e+05 4.08e+05 1.00e+00]\n",
            " [1.44e+05 1.19e+05 3.83e+05 2.00e+00]\n",
            " [1.42e+05 9.14e+04 3.66e+05 1.00e+00]\n",
            " [1.32e+05 9.98e+04 3.63e+05 2.00e+00]\n",
            " [1.35e+05 1.47e+05 1.28e+05 0.00e+00]\n",
            " [1.30e+05 1.46e+05 3.24e+05 1.00e+00]\n",
            " [1.21e+05 1.49e+05 3.12e+05 2.00e+00]\n",
            " [1.23e+05 1.09e+05 3.05e+05 0.00e+00]\n",
            " [1.02e+05 1.11e+05 2.29e+05 1.00e+00]\n",
            " [1.01e+05 9.18e+04 2.50e+05 0.00e+00]\n",
            " [9.39e+04 1.27e+05 2.50e+05 1.00e+00]\n",
            " [9.20e+04 1.35e+05 2.53e+05 0.00e+00]\n",
            " [1.20e+05 1.57e+05 2.57e+05 1.00e+00]\n",
            " [1.15e+05 1.23e+05 2.62e+05 2.00e+00]\n",
            " [7.80e+04 1.22e+05 2.64e+05 0.00e+00]\n",
            " [9.47e+04 1.45e+05 2.83e+05 2.00e+00]\n",
            " [9.17e+04 1.14e+05 2.95e+05 1.00e+00]\n",
            " [8.64e+04 1.54e+05 0.00e+00 2.00e+00]\n",
            " [7.63e+04 1.14e+05 2.99e+05 0.00e+00]\n",
            " [7.84e+04 1.54e+05 3.00e+05 2.00e+00]\n",
            " [7.40e+04 1.23e+05 3.03e+05 1.00e+00]\n",
            " [6.75e+04 1.06e+05 3.05e+05 1.00e+00]\n",
            " [7.70e+04 9.93e+04 1.41e+05 2.00e+00]\n",
            " [6.47e+04 1.40e+05 1.38e+05 0.00e+00]\n",
            " [7.53e+04 1.44e+05 1.34e+05 1.00e+00]\n",
            " [7.21e+04 1.28e+05 3.53e+05 2.00e+00]\n",
            " [6.61e+04 1.83e+05 1.18e+05 1.00e+00]\n",
            " [6.56e+04 1.53e+05 1.07e+05 2.00e+00]\n",
            " [6.20e+04 1.16e+05 9.11e+04 1.00e+00]\n",
            " [6.11e+04 1.53e+05 8.82e+04 2.00e+00]\n",
            " [6.34e+04 1.29e+05 4.61e+04 0.00e+00]\n",
            " [5.55e+04 1.03e+05 2.15e+05 1.00e+00]\n",
            " [4.64e+04 1.58e+05 2.11e+05 0.00e+00]\n",
            " [4.60e+04 8.50e+04 2.06e+05 2.00e+00]\n",
            " [2.87e+04 1.27e+05 2.01e+05 1.00e+00]\n",
            " [4.41e+04 5.13e+04 1.97e+05 0.00e+00]\n",
            " [2.02e+04 6.59e+04 1.85e+05 2.00e+00]\n",
            " [3.86e+04 8.30e+04 1.75e+05 0.00e+00]\n",
            " [2.88e+04 1.19e+05 1.73e+05 0.00e+00]\n",
            " [2.79e+04 8.47e+04 1.64e+05 1.00e+00]\n",
            " [2.36e+04 9.62e+04 1.48e+05 0.00e+00]\n",
            " [1.55e+04 1.27e+05 3.55e+04 2.00e+00]\n",
            " [2.22e+04 1.55e+05 2.83e+04 0.00e+00]\n",
            " [1.00e+03 1.24e+05 1.90e+03 2.00e+00]\n",
            " [1.32e+03 1.16e+05 2.97e+05 1.00e+00]\n",
            " [0.00e+00 1.35e+05 0.00e+00 0.00e+00]\n",
            " [5.42e+02 5.17e+04 0.00e+00 2.00e+00]\n",
            " [0.00e+00 1.17e+05 4.52e+04 0.00e+00]]\n",
            "[192261.83 191792.06 191050.39 182901.99 166187.94 156991.12 156122.51\n",
            " 155752.6  152211.77 149759.96 146121.95 144259.4  141585.52 134307.35\n",
            " 132602.65 129917.04 126992.93 125370.37 124266.9  122776.86 118474.03\n",
            " 111313.02 110352.25 108733.99 108552.04 107404.34 105733.54 105008.31\n",
            " 103282.38 101004.64  99937.59  97483.56  97427.84  96778.92  96712.8\n",
            "  96479.51  90708.19  89949.14  81229.06  81005.76  78239.91  77798.83\n",
            "  71498.49  69758.98  65200.33  64926.08  49490.75  42559.73  35673.41\n",
            "  14681.4 ]\n"
          ]
        }
      ]
    },
    {
      "cell_type": "markdown",
      "source": [
        "### Encoding Categorial Data"
      ],
      "metadata": {
        "id": "Vr_Ovn_Tr77I"
      }
    },
    {
      "cell_type": "code",
      "source": [
        "from sklearn.compose import ColumnTransformer\n",
        "from sklearn.preprocessing import OneHotEncoder\n",
        "\n",
        "impute = ColumnTransformer(transformers=[('encoder', OneHotEncoder(), [3])],\n",
        "                           remainder='passthrough')\n",
        "x = impute.fit_transform(x)"
      ],
      "metadata": {
        "id": "xFbjzfItr7Yp"
      },
      "execution_count": 5,
      "outputs": []
    },
    {
      "cell_type": "code",
      "source": [
        "print(x)"
      ],
      "metadata": {
        "colab": {
          "base_uri": "https://localhost:8080/"
        },
        "id": "a75tAL9bH1B2",
        "outputId": "61b60389-cf41-4309-c117-4a0dc75884c0"
      },
      "execution_count": 24,
      "outputs": [
        {
          "output_type": "stream",
          "name": "stdout",
          "text": [
            "[[1.65e+05 1.37e+05 4.72e+05 2.00e+00]\n",
            " [1.63e+05 1.51e+05 4.44e+05 0.00e+00]\n",
            " [1.53e+05 1.01e+05 4.08e+05 1.00e+00]\n",
            " [1.44e+05 1.19e+05 3.83e+05 2.00e+00]\n",
            " [1.42e+05 9.14e+04 3.66e+05 1.00e+00]\n",
            " [1.32e+05 9.98e+04 3.63e+05 2.00e+00]\n",
            " [1.35e+05 1.47e+05 1.28e+05 0.00e+00]\n",
            " [1.30e+05 1.46e+05 3.24e+05 1.00e+00]\n",
            " [1.21e+05 1.49e+05 3.12e+05 2.00e+00]\n",
            " [1.23e+05 1.09e+05 3.05e+05 0.00e+00]\n",
            " [1.02e+05 1.11e+05 2.29e+05 1.00e+00]\n",
            " [1.01e+05 9.18e+04 2.50e+05 0.00e+00]\n",
            " [9.39e+04 1.27e+05 2.50e+05 1.00e+00]\n",
            " [9.20e+04 1.35e+05 2.53e+05 0.00e+00]\n",
            " [1.20e+05 1.57e+05 2.57e+05 1.00e+00]\n",
            " [1.15e+05 1.23e+05 2.62e+05 2.00e+00]\n",
            " [7.80e+04 1.22e+05 2.64e+05 0.00e+00]\n",
            " [9.47e+04 1.45e+05 2.83e+05 2.00e+00]\n",
            " [9.17e+04 1.14e+05 2.95e+05 1.00e+00]\n",
            " [8.64e+04 1.54e+05 0.00e+00 2.00e+00]\n",
            " [7.63e+04 1.14e+05 2.99e+05 0.00e+00]\n",
            " [7.84e+04 1.54e+05 3.00e+05 2.00e+00]\n",
            " [7.40e+04 1.23e+05 3.03e+05 1.00e+00]\n",
            " [6.75e+04 1.06e+05 3.05e+05 1.00e+00]\n",
            " [7.70e+04 9.93e+04 1.41e+05 2.00e+00]\n",
            " [6.47e+04 1.40e+05 1.38e+05 0.00e+00]\n",
            " [7.53e+04 1.44e+05 1.34e+05 1.00e+00]\n",
            " [7.21e+04 1.28e+05 3.53e+05 2.00e+00]\n",
            " [6.61e+04 1.83e+05 1.18e+05 1.00e+00]\n",
            " [6.56e+04 1.53e+05 1.07e+05 2.00e+00]\n",
            " [6.20e+04 1.16e+05 9.11e+04 1.00e+00]\n",
            " [6.11e+04 1.53e+05 8.82e+04 2.00e+00]\n",
            " [6.34e+04 1.29e+05 4.61e+04 0.00e+00]\n",
            " [5.55e+04 1.03e+05 2.15e+05 1.00e+00]\n",
            " [4.64e+04 1.58e+05 2.11e+05 0.00e+00]\n",
            " [4.60e+04 8.50e+04 2.06e+05 2.00e+00]\n",
            " [2.87e+04 1.27e+05 2.01e+05 1.00e+00]\n",
            " [4.41e+04 5.13e+04 1.97e+05 0.00e+00]\n",
            " [2.02e+04 6.59e+04 1.85e+05 2.00e+00]\n",
            " [3.86e+04 8.30e+04 1.75e+05 0.00e+00]\n",
            " [2.88e+04 1.19e+05 1.73e+05 0.00e+00]\n",
            " [2.79e+04 8.47e+04 1.64e+05 1.00e+00]\n",
            " [2.36e+04 9.62e+04 1.48e+05 0.00e+00]\n",
            " [1.55e+04 1.27e+05 3.55e+04 2.00e+00]\n",
            " [2.22e+04 1.55e+05 2.83e+04 0.00e+00]\n",
            " [1.00e+03 1.24e+05 1.90e+03 2.00e+00]\n",
            " [1.32e+03 1.16e+05 2.97e+05 1.00e+00]\n",
            " [0.00e+00 1.35e+05 0.00e+00 0.00e+00]\n",
            " [5.42e+02 5.17e+04 0.00e+00 2.00e+00]\n",
            " [0.00e+00 1.17e+05 4.52e+04 0.00e+00]]\n"
          ]
        }
      ]
    },
    {
      "cell_type": "markdown",
      "source": [
        "### Splitting Dataset and into Training"
      ],
      "metadata": {
        "id": "Bunu9s8Ioe_5"
      }
    },
    {
      "cell_type": "code",
      "source": [
        "from sklearn.model_selection import train_test_split\n",
        "\n",
        "x_train, x_test, y_train, y_test = train_test_split(\n",
        "   x,y, test_size=0.2, random_state=0\n",
        ")"
      ],
      "metadata": {
        "id": "Mbsk__ZeoeNM"
      },
      "execution_count": 7,
      "outputs": []
    },
    {
      "cell_type": "markdown",
      "source": [
        "### Training the Multiple Linear Regression model on the Training Set"
      ],
      "metadata": {
        "id": "Cx1RAoXIQran"
      }
    },
    {
      "cell_type": "code",
      "source": [
        "from sklearn.linear_model import LinearRegression\n",
        "regressor = LinearRegression()\n",
        "regressor.fit(x_train, y_train)"
      ],
      "metadata": {
        "colab": {
          "base_uri": "https://localhost:8080/",
          "height": 74
        },
        "id": "4xYf5YbOQxbI",
        "outputId": "530f7dca-acae-4397-a6d3-e7cd5fe93753"
      },
      "execution_count": 17,
      "outputs": [
        {
          "output_type": "execute_result",
          "data": {
            "text/plain": [
              "LinearRegression()"
            ],
            "text/html": [
              "<style>#sk-container-id-2 {color: black;}#sk-container-id-2 pre{padding: 0;}#sk-container-id-2 div.sk-toggleable {background-color: white;}#sk-container-id-2 label.sk-toggleable__label {cursor: pointer;display: block;width: 100%;margin-bottom: 0;padding: 0.3em;box-sizing: border-box;text-align: center;}#sk-container-id-2 label.sk-toggleable__label-arrow:before {content: \"▸\";float: left;margin-right: 0.25em;color: #696969;}#sk-container-id-2 label.sk-toggleable__label-arrow:hover:before {color: black;}#sk-container-id-2 div.sk-estimator:hover label.sk-toggleable__label-arrow:before {color: black;}#sk-container-id-2 div.sk-toggleable__content {max-height: 0;max-width: 0;overflow: hidden;text-align: left;background-color: #f0f8ff;}#sk-container-id-2 div.sk-toggleable__content pre {margin: 0.2em;color: black;border-radius: 0.25em;background-color: #f0f8ff;}#sk-container-id-2 input.sk-toggleable__control:checked~div.sk-toggleable__content {max-height: 200px;max-width: 100%;overflow: auto;}#sk-container-id-2 input.sk-toggleable__control:checked~label.sk-toggleable__label-arrow:before {content: \"▾\";}#sk-container-id-2 div.sk-estimator input.sk-toggleable__control:checked~label.sk-toggleable__label {background-color: #d4ebff;}#sk-container-id-2 div.sk-label input.sk-toggleable__control:checked~label.sk-toggleable__label {background-color: #d4ebff;}#sk-container-id-2 input.sk-hidden--visually {border: 0;clip: rect(1px 1px 1px 1px);clip: rect(1px, 1px, 1px, 1px);height: 1px;margin: -1px;overflow: hidden;padding: 0;position: absolute;width: 1px;}#sk-container-id-2 div.sk-estimator {font-family: monospace;background-color: #f0f8ff;border: 1px dotted black;border-radius: 0.25em;box-sizing: border-box;margin-bottom: 0.5em;}#sk-container-id-2 div.sk-estimator:hover {background-color: #d4ebff;}#sk-container-id-2 div.sk-parallel-item::after {content: \"\";width: 100%;border-bottom: 1px solid gray;flex-grow: 1;}#sk-container-id-2 div.sk-label:hover label.sk-toggleable__label {background-color: #d4ebff;}#sk-container-id-2 div.sk-serial::before {content: \"\";position: absolute;border-left: 1px solid gray;box-sizing: border-box;top: 0;bottom: 0;left: 50%;z-index: 0;}#sk-container-id-2 div.sk-serial {display: flex;flex-direction: column;align-items: center;background-color: white;padding-right: 0.2em;padding-left: 0.2em;position: relative;}#sk-container-id-2 div.sk-item {position: relative;z-index: 1;}#sk-container-id-2 div.sk-parallel {display: flex;align-items: stretch;justify-content: center;background-color: white;position: relative;}#sk-container-id-2 div.sk-item::before, #sk-container-id-2 div.sk-parallel-item::before {content: \"\";position: absolute;border-left: 1px solid gray;box-sizing: border-box;top: 0;bottom: 0;left: 50%;z-index: -1;}#sk-container-id-2 div.sk-parallel-item {display: flex;flex-direction: column;z-index: 1;position: relative;background-color: white;}#sk-container-id-2 div.sk-parallel-item:first-child::after {align-self: flex-end;width: 50%;}#sk-container-id-2 div.sk-parallel-item:last-child::after {align-self: flex-start;width: 50%;}#sk-container-id-2 div.sk-parallel-item:only-child::after {width: 0;}#sk-container-id-2 div.sk-dashed-wrapped {border: 1px dashed gray;margin: 0 0.4em 0.5em 0.4em;box-sizing: border-box;padding-bottom: 0.4em;background-color: white;}#sk-container-id-2 div.sk-label label {font-family: monospace;font-weight: bold;display: inline-block;line-height: 1.2em;}#sk-container-id-2 div.sk-label-container {text-align: center;}#sk-container-id-2 div.sk-container {/* jupyter's `normalize.less` sets `[hidden] { display: none; }` but bootstrap.min.css set `[hidden] { display: none !important; }` so we also need the `!important` here to be able to override the default hidden behavior on the sphinx rendered scikit-learn.org. See: https://github.com/scikit-learn/scikit-learn/issues/21755 */display: inline-block !important;position: relative;}#sk-container-id-2 div.sk-text-repr-fallback {display: none;}</style><div id=\"sk-container-id-2\" class=\"sk-top-container\"><div class=\"sk-text-repr-fallback\"><pre>LinearRegression()</pre><b>In a Jupyter environment, please rerun this cell to show the HTML representation or trust the notebook. <br />On GitHub, the HTML representation is unable to render, please try loading this page with nbviewer.org.</b></div><div class=\"sk-container\" hidden><div class=\"sk-item\"><div class=\"sk-estimator sk-toggleable\"><input class=\"sk-toggleable__control sk-hidden--visually\" id=\"sk-estimator-id-2\" type=\"checkbox\" checked><label for=\"sk-estimator-id-2\" class=\"sk-toggleable__label sk-toggleable__label-arrow\">LinearRegression</label><div class=\"sk-toggleable__content\"><pre>LinearRegression()</pre></div></div></div></div></div>"
            ]
          },
          "metadata": {},
          "execution_count": 17
        }
      ]
    },
    {
      "cell_type": "markdown",
      "source": [
        "### Predecting The Result"
      ],
      "metadata": {
        "id": "3flmb5VKQnG3"
      }
    },
    {
      "cell_type": "code",
      "source": [
        "y_pred = regressor.predict(x_test)\n",
        "\n",
        "# np.set_printoptions(precision=2): Mengatur presisi pencetakan numpy menjadi 2\n",
        "# tempat desimal untuk memperjelas tampilan hasil.\n",
        "np.set_printoptions(precision=2)\n",
        "\n",
        "# np.concatenate((...), 1): Menggabungkan kedua array kolom ini secara horizontal\n",
        "# sehingga setiap baris berisi nilai prediksi (y_pred) dan nilai aktual (y_test)\n",
        "# yang berpasangan.\n",
        "print(np.concatenate((y_pred.reshape(len(y_pred), 1),\n",
        "# y_pred.reshape(len(y_pred), 1): Mengubah array y_pred menjadi array kolom\n",
        "# (dengan satu kolom dan banyak baris sesuai panjang y_pred).\n",
        "                      y_test.reshape(len(y_pred),1)),1))\n",
        "# y_test.reshape(len(y_pred), 1): Mengubah array y_test menjadi array kolom\n",
        "# (dengan satu kolom dan banyak baris sesuai panjang y_pred)."
      ],
      "metadata": {
        "colab": {
          "base_uri": "https://localhost:8080/"
        },
        "id": "pyNbaGlWQmho",
        "outputId": "1ebbc4ed-75e3-48a6-c3fb-d053dd8fcc1d"
      },
      "execution_count": 22,
      "outputs": [
        {
          "output_type": "stream",
          "name": "stdout",
          "text": [
            "[[103015.2  103282.38]\n",
            " [132582.28 144259.4 ]\n",
            " [132447.74 146121.95]\n",
            " [ 71976.1   77798.83]\n",
            " [178537.48 191050.39]\n",
            " [116161.24 105008.31]\n",
            " [ 67851.69  81229.06]\n",
            " [ 98791.73  97483.56]\n",
            " [113969.44 110352.25]\n",
            " [167921.07 166187.94]]\n"
          ]
        }
      ]
    },
    {
      "cell_type": "markdown",
      "source": [
        "### Label Encoder"
      ],
      "metadata": {
        "id": "oMKs79lDoauj"
      }
    },
    {
      "cell_type": "code",
      "source": [
        "from sklearn.preprocessing import LabelEncoder\n",
        "\n",
        "le = LabelEncoder()\n",
        "dataset['State'] = le.fit_transform(dataset['State'])\n",
        "x = dataset.iloc[:, :-1].values"
      ],
      "metadata": {
        "id": "zsQuAqysocq7"
      },
      "execution_count": 12,
      "outputs": []
    },
    {
      "cell_type": "code",
      "source": [
        "print(x)"
      ],
      "metadata": {
        "colab": {
          "base_uri": "https://localhost:8080/"
        },
        "id": "kEwyUCL4pHbC",
        "outputId": "ab79ff55-3078-42ea-a9c8-2d7e1b5f7b28"
      },
      "execution_count": 11,
      "outputs": [
        {
          "output_type": "stream",
          "name": "stdout",
          "text": [
            "[[1.6534920e+05 1.3689780e+05 4.7178410e+05 2.0000000e+00]\n",
            " [1.6259770e+05 1.5137759e+05 4.4389853e+05 0.0000000e+00]\n",
            " [1.5344151e+05 1.0114555e+05 4.0793454e+05 1.0000000e+00]\n",
            " [1.4437241e+05 1.1867185e+05 3.8319962e+05 2.0000000e+00]\n",
            " [1.4210734e+05 9.1391770e+04 3.6616842e+05 1.0000000e+00]\n",
            " [1.3187690e+05 9.9814710e+04 3.6286136e+05 2.0000000e+00]\n",
            " [1.3461546e+05 1.4719887e+05 1.2771682e+05 0.0000000e+00]\n",
            " [1.3029813e+05 1.4553006e+05 3.2387668e+05 1.0000000e+00]\n",
            " [1.2054252e+05 1.4871895e+05 3.1161329e+05 2.0000000e+00]\n",
            " [1.2333488e+05 1.0867917e+05 3.0498162e+05 0.0000000e+00]\n",
            " [1.0191308e+05 1.1059411e+05 2.2916095e+05 1.0000000e+00]\n",
            " [1.0067196e+05 9.1790610e+04 2.4974455e+05 0.0000000e+00]\n",
            " [9.3863750e+04 1.2732038e+05 2.4983944e+05 1.0000000e+00]\n",
            " [9.1992390e+04 1.3549507e+05 2.5266493e+05 0.0000000e+00]\n",
            " [1.1994324e+05 1.5654742e+05 2.5651292e+05 1.0000000e+00]\n",
            " [1.1452361e+05 1.2261684e+05 2.6177623e+05 2.0000000e+00]\n",
            " [7.8013110e+04 1.2159755e+05 2.6434606e+05 0.0000000e+00]\n",
            " [9.4657160e+04 1.4507758e+05 2.8257431e+05 2.0000000e+00]\n",
            " [9.1749160e+04 1.1417579e+05 2.9491957e+05 1.0000000e+00]\n",
            " [8.6419700e+04 1.5351411e+05 0.0000000e+00 2.0000000e+00]\n",
            " [7.6253860e+04 1.1386730e+05 2.9866447e+05 0.0000000e+00]\n",
            " [7.8389470e+04 1.5377343e+05 2.9973729e+05 2.0000000e+00]\n",
            " [7.3994560e+04 1.2278275e+05 3.0331926e+05 1.0000000e+00]\n",
            " [6.7532530e+04 1.0575103e+05 3.0476873e+05 1.0000000e+00]\n",
            " [7.7044010e+04 9.9281340e+04 1.4057481e+05 2.0000000e+00]\n",
            " [6.4664710e+04 1.3955316e+05 1.3796262e+05 0.0000000e+00]\n",
            " [7.5328870e+04 1.4413598e+05 1.3405007e+05 1.0000000e+00]\n",
            " [7.2107600e+04 1.2786455e+05 3.5318381e+05 2.0000000e+00]\n",
            " [6.6051520e+04 1.8264556e+05 1.1814820e+05 1.0000000e+00]\n",
            " [6.5605480e+04 1.5303206e+05 1.0713838e+05 2.0000000e+00]\n",
            " [6.1994480e+04 1.1564128e+05 9.1131240e+04 1.0000000e+00]\n",
            " [6.1136380e+04 1.5270192e+05 8.8218230e+04 2.0000000e+00]\n",
            " [6.3408860e+04 1.2921961e+05 4.6085250e+04 0.0000000e+00]\n",
            " [5.5493950e+04 1.0305749e+05 2.1463481e+05 1.0000000e+00]\n",
            " [4.6426070e+04 1.5769392e+05 2.1079767e+05 0.0000000e+00]\n",
            " [4.6014020e+04 8.5047440e+04 2.0551764e+05 2.0000000e+00]\n",
            " [2.8663760e+04 1.2705621e+05 2.0112682e+05 1.0000000e+00]\n",
            " [4.4069950e+04 5.1283140e+04 1.9702942e+05 0.0000000e+00]\n",
            " [2.0229590e+04 6.5947930e+04 1.8526510e+05 2.0000000e+00]\n",
            " [3.8558510e+04 8.2982090e+04 1.7499930e+05 0.0000000e+00]\n",
            " [2.8754330e+04 1.1854605e+05 1.7279567e+05 0.0000000e+00]\n",
            " [2.7892920e+04 8.4710770e+04 1.6447071e+05 1.0000000e+00]\n",
            " [2.3640930e+04 9.6189630e+04 1.4800111e+05 0.0000000e+00]\n",
            " [1.5505730e+04 1.2738230e+05 3.5534170e+04 2.0000000e+00]\n",
            " [2.2177740e+04 1.5480614e+05 2.8334720e+04 0.0000000e+00]\n",
            " [1.0002300e+03 1.2415304e+05 1.9039300e+03 2.0000000e+00]\n",
            " [1.3154600e+03 1.1581621e+05 2.9711446e+05 1.0000000e+00]\n",
            " [0.0000000e+00 1.3542692e+05 0.0000000e+00 0.0000000e+00]\n",
            " [5.4205000e+02 5.1743150e+04 0.0000000e+00 2.0000000e+00]\n",
            " [0.0000000e+00 1.1698380e+05 4.5173060e+04 0.0000000e+00]]\n"
          ]
        }
      ]
    }
  ]
}