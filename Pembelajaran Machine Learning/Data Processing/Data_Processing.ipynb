{
  "nbformat": 4,
  "nbformat_minor": 0,
  "metadata": {
    "colab": {
      "provenance": [],
      "authorship_tag": "ABX9TyMelD+wSlFfRxdHcOa+ByXH"
    },
    "kernelspec": {
      "name": "python3",
      "display_name": "Python 3"
    },
    "language_info": {
      "name": "python"
    }
  },
  "cells": [
    {
      "cell_type": "markdown",
      "source": [
        "### Belajar Proceesing data with Python"
      ],
      "metadata": {
        "id": "TjX0PoW8UsSk"
      }
    },
    {
      "cell_type": "markdown",
      "source": [
        "### Import Library Yang Dibutuhkan"
      ],
      "metadata": {
        "id": "0d2XavZk7bAe"
      }
    },
    {
      "cell_type": "code",
      "execution_count": 46,
      "metadata": {
        "id": "b9X3FaMpUOzG"
      },
      "outputs": [],
      "source": [
        "# import numpy digunakan untuk komputasi numerik\n",
        "import numpy as np\n",
        "# import pandas digunakan untuk manipulasi dan analisis data\n",
        "import pandas as pd\n",
        "# import maplotlib.pyplot digunakan untuk membuat visualisasi statis,interaktif dan animasi.\n",
        "import matplotlib.pyplot as plt\n",
        "# import os digunakan untuk memeriksa\n",
        "import os\n",
        "\n",
        "from sklearn.preprocessing import OneHotEncoder\n",
        "from sklearn.compose import ColumnTransformer"
      ]
    },
    {
      "cell_type": "code",
      "source": [
        "# os.listDir digunakan untuk memeriksa semua file maupun foler.\n",
        "print(os.listdir())"
      ],
      "metadata": {
        "colab": {
          "base_uri": "https://localhost:8080/"
        },
        "id": "w0E7fgtxU1XC",
        "outputId": "19129f08-5568-44f7-f334-836b69ea0e64"
      },
      "execution_count": 47,
      "outputs": [
        {
          "output_type": "stream",
          "name": "stdout",
          "text": [
            "['.config', 'Data.csv', 'sample_data']\n"
          ]
        }
      ]
    },
    {
      "cell_type": "code",
      "source": [
        "# dataset = nama variabel\n",
        "# pd => library dari pyhton untuk manipulasi data\n",
        "# read_csv digunakan untuk membaca data.csv yaitu data yang sudah saya masukkan ke folder \"Data.csv\"\n",
        "# pd.csv('Data.csv')\n",
        "dataset = pd.read_csv('Data.csv')\n",
        "\n",
        "header = pd.read_csv('sample_data/california_housing_train.csv')\n",
        "\n",
        "a = header.iloc[:, :-1]\n",
        "b = header.iloc[-1, :]\n",
        "print(a)\n",
        "print(\"\")\n",
        "print(b)\n",
        "\n",
        "print(\"\")\n",
        "\n",
        "print(\"=================================\")\n",
        "x = dataset.head()\n",
        "print(x)\n",
        "print(\"=================================\")\n",
        "\n",
        "\n",
        "# iloc digunakan untuk mengakses baris dan kolom berdasarkan posisi indeks\n",
        "# cara baca [:, :] <= ( baris x kolom ) = [baris, kolom]\n",
        "x = dataset.iloc[:, :-1].values # disini .iloc[:, :-1] (: membaca semua baris)\n",
        "# (:-1 memilih semua kolom kecuali kolom terakhir (-1))\n",
        "\n",
        "\n",
        "# sedangkan ini, memilih semau baris dan hanya kolom terakhir saja.\n",
        "y = dataset.iloc[:, -1].values # dikarenakan -1 (hanya kolom terakhir saja, tidak menggunakan (:))\n",
        "# .values digunakan untuk mengubah hasilnya menjadi array NumPy.\n",
        "\n",
        "print(\"\")\n",
        "print(\"Data setelah di Categorial:\")\n",
        "print(\"==============================\")\n",
        "bc = ColumnTransformer(transformers=[('encoder', OneHotEncoder(), [0])],\n",
        "                       remainder='passthrough')\n",
        "a = np.array(bc.fit_transform(a))\n",
        "print(a)\n",
        "print(\"==============================\")\n"
      ],
      "metadata": {
        "id": "mqikIVm4WVay",
        "colab": {
          "base_uri": "https://localhost:8080/"
        },
        "outputId": "5b6641e0-9abb-45f9-832d-594fe58b83e2"
      },
      "execution_count": 49,
      "outputs": [
        {
          "output_type": "stream",
          "name": "stdout",
          "text": [
            "       longitude  latitude  housing_median_age  total_rooms  total_bedrooms  \\\n",
            "0        -114.31     34.19                15.0       5612.0          1283.0   \n",
            "1        -114.47     34.40                19.0       7650.0          1901.0   \n",
            "2        -114.56     33.69                17.0        720.0           174.0   \n",
            "3        -114.57     33.64                14.0       1501.0           337.0   \n",
            "4        -114.57     33.57                20.0       1454.0           326.0   \n",
            "...          ...       ...                 ...          ...             ...   \n",
            "16995    -124.26     40.58                52.0       2217.0           394.0   \n",
            "16996    -124.27     40.69                36.0       2349.0           528.0   \n",
            "16997    -124.30     41.84                17.0       2677.0           531.0   \n",
            "16998    -124.30     41.80                19.0       2672.0           552.0   \n",
            "16999    -124.35     40.54                52.0       1820.0           300.0   \n",
            "\n",
            "       population  households  median_income  \n",
            "0          1015.0       472.0         1.4936  \n",
            "1          1129.0       463.0         1.8200  \n",
            "2           333.0       117.0         1.6509  \n",
            "3           515.0       226.0         3.1917  \n",
            "4           624.0       262.0         1.9250  \n",
            "...           ...         ...            ...  \n",
            "16995       907.0       369.0         2.3571  \n",
            "16996      1194.0       465.0         2.5179  \n",
            "16997      1244.0       456.0         3.0313  \n",
            "16998      1298.0       478.0         1.9797  \n",
            "16999       806.0       270.0         3.0147  \n",
            "\n",
            "[17000 rows x 8 columns]\n",
            "\n",
            "longitude              -124.3500\n",
            "latitude                 40.5400\n",
            "housing_median_age       52.0000\n",
            "total_rooms            1820.0000\n",
            "total_bedrooms          300.0000\n",
            "population              806.0000\n",
            "households              270.0000\n",
            "median_income             3.0147\n",
            "median_house_value    94600.0000\n",
            "Name: 16999, dtype: float64\n",
            "\n",
            "=================================\n",
            "   Country   Age   Salary Purchased\n",
            "0   France  44.0  72000.0        No\n",
            "1    Spain  27.0  48000.0       Yes\n",
            "2  Germany  30.0  54000.0        No\n",
            "3    Spain  38.0  61000.0        No\n",
            "4  Germany  40.0      NaN       Yes\n",
            "=================================\n",
            "\n",
            "Data setelah di Categorial:\n",
            "==============================\n",
            "  (0, 826)\t1.0\n",
            "  (0, 827)\t34.19\n",
            "  (0, 828)\t15.0\n",
            "  (0, 829)\t5612.0\n",
            "  (0, 830)\t1283.0\n",
            "  (0, 831)\t1015.0\n",
            "  (0, 832)\t472.0\n",
            "  (0, 833)\t1.4936\n",
            "  (1, 825)\t1.0\n",
            "  (1, 827)\t34.4\n",
            "  (1, 828)\t19.0\n",
            "  (1, 829)\t7650.0\n",
            "  (1, 830)\t1901.0\n",
            "  (1, 831)\t1129.0\n",
            "  (1, 832)\t463.0\n",
            "  (1, 833)\t1.82\n",
            "  (2, 824)\t1.0\n",
            "  (2, 827)\t33.69\n",
            "  (2, 828)\t17.0\n",
            "  (2, 829)\t720.0\n",
            "  (2, 830)\t174.0\n",
            "  (2, 831)\t333.0\n",
            "  (2, 832)\t117.0\n",
            "  (2, 833)\t1.6509\n",
            "  (3, 823)\t1.0\n",
            "  :\t:\n",
            "  (16996, 833)\t2.5179\n",
            "  (16997, 1)\t1.0\n",
            "  (16997, 827)\t41.84\n",
            "  (16997, 828)\t17.0\n",
            "  (16997, 829)\t2677.0\n",
            "  (16997, 830)\t531.0\n",
            "  (16997, 831)\t1244.0\n",
            "  (16997, 832)\t456.0\n",
            "  (16997, 833)\t3.0313\n",
            "  (16998, 1)\t1.0\n",
            "  (16998, 827)\t41.8\n",
            "  (16998, 828)\t19.0\n",
            "  (16998, 829)\t2672.0\n",
            "  (16998, 830)\t552.0\n",
            "  (16998, 831)\t1298.0\n",
            "  (16998, 832)\t478.0\n",
            "  (16998, 833)\t1.9797\n",
            "  (16999, 0)\t1.0\n",
            "  (16999, 827)\t40.54\n",
            "  (16999, 828)\t52.0\n",
            "  (16999, 829)\t1820.0\n",
            "  (16999, 830)\t300.0\n",
            "  (16999, 831)\t806.0\n",
            "  (16999, 832)\t270.0\n",
            "  (16999, 833)\t3.0147\n",
            "==============================\n"
          ]
        }
      ]
    },
    {
      "cell_type": "code",
      "source": [
        "print(x)\n",
        "print(y)"
      ],
      "metadata": {
        "colab": {
          "base_uri": "https://localhost:8080/"
        },
        "id": "upHZNuHCX_Ly",
        "outputId": "72882fd0-203b-4ebd-b407-8b86ac4f5e04"
      },
      "execution_count": 50,
      "outputs": [
        {
          "output_type": "stream",
          "name": "stdout",
          "text": [
            "[['France' 44.0 72000.0]\n",
            " ['Spain' 27.0 48000.0]\n",
            " ['Germany' 30.0 54000.0]\n",
            " ['Spain' 38.0 61000.0]\n",
            " ['Germany' 40.0 nan]\n",
            " ['France' 35.0 58000.0]\n",
            " ['Spain' nan 52000.0]\n",
            " ['France' 48.0 79000.0]\n",
            " ['Germany' 50.0 83000.0]\n",
            " ['France' 37.0 67000.0]]\n",
            "['No' 'Yes' 'No' 'No' 'Yes' 'Yes' 'No' 'Yes' 'No' 'Yes']\n"
          ]
        }
      ]
    },
    {
      "cell_type": "markdown",
      "source": [
        "### Taking Care Of Missing data"
      ],
      "metadata": {
        "id": "P4Hr6k6wLBZe"
      }
    },
    {
      "cell_type": "code",
      "source": [
        "# sklearn.impute dengan mengimport SimpleImputer:\n",
        "# digunakan untuk menangani data yang hilang (missing values) dalam dataset.\n",
        "from sklearn.impute import SimpleImputer\n",
        "\n",
        "# SimpleImputer adalah sebuah kelas dari modul sklearn.impute\n",
        "# di scikit-learn yang digunakan untuk mengisi nilai-nilai yang\n",
        "# hilang dalam dataset.\n",
        "impute = SimpleImputer(missing_values=np.nan, strategy='mean')\n",
        "# (missing_values = np.nan) digunakan untuk mencari values yang hilang dengan\n",
        "# komputasi numerik (np.nan), (strategy = 'mean') digunakan untuk menghitung nilai\n",
        "# rata - rata (mean).\n",
        "\n",
        "#impute.fit() digunakan untuk menghitung rata rata dari setiap kolom\n",
        "impute.fit(x[:,1:3]) # (x[:, 1:3]) = memilih semua baris (:),\n",
        "# memilih kolom 1 hingga kolom ke 3 yaitu (1:3) =  (Age - Salary - Purchased)\n",
        "\n",
        "# impute.transform() digunakan untuk mengubah Data Frame mengganti nilai (Nan)\n",
        "# dengan rata rata yang telah dihitung\n",
        "x[:, 1:3] = impute.transform(x[:, 1:3])\n",
        "print(x)"
      ],
      "metadata": {
        "colab": {
          "base_uri": "https://localhost:8080/"
        },
        "id": "O8mrPBQRLFc_",
        "outputId": "fc14c99f-5ab2-41c4-bb8e-c82f8398080b"
      },
      "execution_count": 51,
      "outputs": [
        {
          "output_type": "stream",
          "name": "stdout",
          "text": [
            "[['France' 44.0 72000.0]\n",
            " ['Spain' 27.0 48000.0]\n",
            " ['Germany' 30.0 54000.0]\n",
            " ['Spain' 38.0 61000.0]\n",
            " ['Germany' 40.0 63777.77777777778]\n",
            " ['France' 35.0 58000.0]\n",
            " ['Spain' 38.77777777777778 52000.0]\n",
            " ['France' 48.0 79000.0]\n",
            " ['Germany' 50.0 83000.0]\n",
            " ['France' 37.0 67000.0]]\n"
          ]
        }
      ]
    },
    {
      "cell_type": "markdown",
      "source": [
        "## Categorial Data"
      ],
      "metadata": {
        "id": "QbeVTHEfnc7-"
      }
    },
    {
      "cell_type": "markdown",
      "source": [
        "## Encoding data kategorikal adalah langkah penting dalam preprocessing data sebelum digunakan dalam model machine learning"
      ],
      "metadata": {
        "id": "RihVyO-KXW5k"
      }
    },
    {
      "cell_type": "code",
      "source": [
        "# (sklearn.compose import ColumnTransformer) digunakan\n",
        "# untuk menerapkan transformasi yang berbeda pada kolom yang berbeda dalam dataset.\n",
        "from sklearn.compose import ColumnTransformer\n",
        "\n",
        "\n",
        "from sklearn.preprocessing import OneHotEncoder\n",
        "# (sklearn.preprocessing import OneHotEncoder) digunakan untuk mengubah data kategorikal\n",
        "# menjadi representasi numerik yang bisa digunakan dalam algoritma machine learning\n",
        "\n",
        "ct = ColumnTransformer(transformers=[('encoder', OneHotEncoder(), [0])], remainder='passthrough')\n",
        "# disini kita membuat sebuah variabel ct, yang dimana kita menambahkan data\n",
        "# ColumnTransformer, Setiap transformer adalah sebuah tuple yang terdiri dari tiga elemen\n",
        "# 'encoder' = sebuah label atau nama yang bisa Anda gunakan untuk mengidentifikasi transformer tersebut.\n",
        "# OneHotEncoder() = objek transformer itu sendiri yang akan digunakan untuk mentransformasi data.\n",
        "# [0] = indeks kolom yang akan diubah menjadi one-hot encoding.\n",
        "# [:] = semua kolom yang akan diubah menjadi one-hot encoding.\n",
        "# remainder='passthrough': Menentukan apa yang harus dilakukan dengan kolom yang tidak disebutkan\n",
        "# dalam transformers.Dalam kasus ini, remainder='passthrough' berarti kolom yang tidak disebutkan\n",
        "# akan tetap ada dalam dataset dan tidak akan diubah.\n",
        "\n",
        "# Transformasi data\n",
        "x = np.array(ct.fit_transform(x))\n",
        "# fit untuk menghitung nilai rata rata\n",
        "# transform untuk Menerapkan transformasi yang telah dipelajari pada data x\n",
        "# np.array() digunakan untuk Mengubah hasil dari fit_transform menjadi sebuah array NumPy.\n",
        "# Ini dilakukan untuk memastikan bahwa hasilnya dalam format yang konsisten dan mudah digunakan\n",
        "# dalam analisis atau model machine learning selanjutnya.\n",
        "\n"
      ],
      "metadata": {
        "id": "YvSrHJN7nr7-"
      },
      "execution_count": 52,
      "outputs": []
    },
    {
      "cell_type": "code",
      "source": [
        "print(x)"
      ],
      "metadata": {
        "colab": {
          "base_uri": "https://localhost:8080/"
        },
        "id": "md_ydDIBXGSL",
        "outputId": "68559d92-b83e-43b0-d89d-9f1d6a93bd93"
      },
      "execution_count": 53,
      "outputs": [
        {
          "output_type": "stream",
          "name": "stdout",
          "text": [
            "[[1.0 0.0 0.0 44.0 72000.0]\n",
            " [0.0 0.0 1.0 27.0 48000.0]\n",
            " [0.0 1.0 0.0 30.0 54000.0]\n",
            " [0.0 0.0 1.0 38.0 61000.0]\n",
            " [0.0 1.0 0.0 40.0 63777.77777777778]\n",
            " [1.0 0.0 0.0 35.0 58000.0]\n",
            " [0.0 0.0 1.0 38.77777777777778 52000.0]\n",
            " [1.0 0.0 0.0 48.0 79000.0]\n",
            " [0.0 1.0 0.0 50.0 83000.0]\n",
            " [1.0 0.0 0.0 37.0 67000.0]]\n"
          ]
        }
      ]
    },
    {
      "cell_type": "code",
      "source": [
        "# LabelEncoder adalah alat yang digunakan untuk mengubah label\n",
        "# kategori menjadi angka.\n",
        "from sklearn.preprocessing import LabelEncoder\n",
        "\n",
        "\n",
        "# le = LabelEncoder(): Membuat instance dari LabelEncoder.\n",
        "le = LabelEncoder()\n",
        "\n",
        "# y = le.fit_transform(y) Menggunakan instance LabelEncoder untuk mengubah\n",
        "# label y yang berupa kategori (teks) menjadi angka\n",
        "y = le.fit_transform(y)"
      ],
      "metadata": {
        "id": "GN-Vm4tbonb4"
      },
      "execution_count": 54,
      "outputs": []
    },
    {
      "cell_type": "code",
      "source": [
        "print(\"Sesudah di Categorial:\")\n",
        "print(\"=====================================================\")\n",
        "print(y)\n",
        "print(\"=====================================================\")\n",
        "\n",
        "print(\"\")\n",
        "\n",
        "print(\"Sebelum di Categorial:\")\n",
        "print(\"=====================================================\")\n",
        "y = dataset.iloc[:, -1].values\n",
        "print(y)\n",
        "print(\"=====================================================\")"
      ],
      "metadata": {
        "colab": {
          "base_uri": "https://localhost:8080/"
        },
        "id": "FaI1yqgDpDvY",
        "outputId": "2ebc21f9-5c5b-4b56-ba89-12d5df9edebe"
      },
      "execution_count": 55,
      "outputs": [
        {
          "output_type": "stream",
          "name": "stdout",
          "text": [
            "Sesudah di Categorial:\n",
            "=====================================================\n",
            "[0 1 0 0 1 1 0 1 0 1]\n",
            "=====================================================\n",
            "\n",
            "Sebelum di Categorial:\n",
            "=====================================================\n",
            "['No' 'Yes' 'No' 'No' 'Yes' 'Yes' 'No' 'Yes' 'No' 'Yes']\n",
            "=====================================================\n"
          ]
        }
      ]
    },
    {
      "cell_type": "markdown",
      "source": [
        "### Splitting the dataset into the Training set and Tes set"
      ],
      "metadata": {
        "id": "C270geat3E9P"
      }
    },
    {
      "cell_type": "code",
      "source": [
        "# sklearn.model_selection digunakan untuk membagi dataset\n",
        "# menjadi data training dan data testing\n",
        "from sklearn.model_selection import train_test_split\n",
        "# train_test_split adalah fungsi dari modul sklearn.model_selection\n",
        "# yang digunakan untuk membagi dataset menjadi data training dan data testing.\n",
        "\n",
        "# x_train dan y_train adalah data training untuk fitur dan target.\n",
        "# x_test dan y_test adalah data testing untuk fitur dan target.\n",
        "x_train, x_test, y_train, y_test = train_test_split(\n",
        "# test_size=0.2 mengindikasikan bahwa 20% dari dataset akan digunakan untuk testing\n",
        "# sementara 80% akan digunakan untuk training.\n",
        "x, y, test_size=0.2, random_state=1)\n",
        "# random_state=1 digunakan agar pembagian data menjadi konsisten dan\n",
        "# dapat direproduksi secara berulang."
      ],
      "metadata": {
        "id": "Unhx4QwP6gCR"
      },
      "execution_count": 56,
      "outputs": []
    },
    {
      "cell_type": "code",
      "source": [
        "print(x_train)"
      ],
      "metadata": {
        "colab": {
          "base_uri": "https://localhost:8080/"
        },
        "id": "QYyVOAph7ssQ",
        "outputId": "a5ba80ec-c8ea-406b-f83d-d4ba650b2f89"
      },
      "execution_count": 57,
      "outputs": [
        {
          "output_type": "stream",
          "name": "stdout",
          "text": [
            "[[0.0 0.0 1.0 38.77777777777778 52000.0]\n",
            " [0.0 1.0 0.0 40.0 63777.77777777778]\n",
            " [1.0 0.0 0.0 44.0 72000.0]\n",
            " [0.0 0.0 1.0 38.0 61000.0]\n",
            " [0.0 0.0 1.0 27.0 48000.0]\n",
            " [1.0 0.0 0.0 48.0 79000.0]\n",
            " [0.0 1.0 0.0 50.0 83000.0]\n",
            " [1.0 0.0 0.0 35.0 58000.0]]\n"
          ]
        }
      ]
    },
    {
      "cell_type": "code",
      "source": [
        "print(x_test)"
      ],
      "metadata": {
        "colab": {
          "base_uri": "https://localhost:8080/"
        },
        "id": "_nlwb4p_7s_X",
        "outputId": "17153342-415f-484d-858d-6a7a137a6a7f"
      },
      "execution_count": 58,
      "outputs": [
        {
          "output_type": "stream",
          "name": "stdout",
          "text": [
            "[[0.0 1.0 0.0 30.0 54000.0]\n",
            " [1.0 0.0 0.0 37.0 67000.0]]\n"
          ]
        }
      ]
    },
    {
      "cell_type": "code",
      "source": [
        "print(y_train)"
      ],
      "metadata": {
        "colab": {
          "base_uri": "https://localhost:8080/"
        },
        "id": "uIJpYtUT7tNg",
        "outputId": "8accb9a5-cec1-46c1-c760-46c253816a80"
      },
      "execution_count": 59,
      "outputs": [
        {
          "output_type": "stream",
          "name": "stdout",
          "text": [
            "['No' 'Yes' 'No' 'No' 'Yes' 'Yes' 'No' 'Yes']\n"
          ]
        }
      ]
    },
    {
      "cell_type": "code",
      "source": [
        "print(y_test)"
      ],
      "metadata": {
        "colab": {
          "base_uri": "https://localhost:8080/"
        },
        "id": "gnC4lvA47tbq",
        "outputId": "5be64987-4b99-42c1-f4b7-18dd0b304285"
      },
      "execution_count": 60,
      "outputs": [
        {
          "output_type": "stream",
          "name": "stdout",
          "text": [
            "['No' 'Yes']\n"
          ]
        }
      ]
    },
    {
      "cell_type": "markdown",
      "source": [
        "## Feature Scalling"
      ],
      "metadata": {
        "id": "--t1ez-m3LLg"
      }
    },
    {
      "cell_type": "code",
      "source": [
        "# StandardScaler digunakan untuk melakukan scaling fitur dengan mengubah fitur-fitur\n",
        "# numerik sehingga memiliki rata-rata nol dan varians satu.\n",
        "from sklearn.preprocessing import StandardScaler\n",
        "\n",
        "# sc adalah variabel yang memanggil objek StandardScaler()\n",
        "sc = StandardScaler()\n",
        "\n",
        "# sc.fit_transform(x_train[:, 3:]) menghitung rata-rata dan standar deviasi dari\n",
        "# kolom ke-3 dan seterusnya ([:, 3:]) dalam x_train, lalu mengubah data tersebut\n",
        "# sesuai dengan skala yang dihitung.\n",
        "x_train[:, 3:] = sc.fit_transform(x_train[:, 3:])\n",
        "\n",
        "# sc.transform(x_test[:, 3:]) mengubah skala data testing (x_test) menggunakan\n",
        "# rata-rata dan standar deviasi yang sama seperti yang dihitung dari x_train.\n",
        "x_test[:, 3:] = sc.transform(x_test[:, 3:])"
      ],
      "metadata": {
        "id": "scc_tbhY3Oo5"
      },
      "execution_count": 71,
      "outputs": []
    },
    {
      "cell_type": "code",
      "source": [
        "print(x_train)"
      ],
      "metadata": {
        "colab": {
          "base_uri": "https://localhost:8080/"
        },
        "id": "tA_YGLaJQXyt",
        "outputId": "3979cc04-3c1a-4819-d580-18abcd6da5fb"
      },
      "execution_count": 66,
      "outputs": [
        {
          "output_type": "stream",
          "name": "stdout",
          "text": [
            "[[0.0 0.0 1.0 -0.1915918438457855 -1.0781259408412427]\n",
            " [0.0 1.0 0.0 -0.014117293757057819 -0.07013167641635407]\n",
            " [1.0 0.0 0.0 0.5667085065333239 0.6335624327104546]\n",
            " [0.0 0.0 1.0 -0.30453019390224867 -0.307866172742979]\n",
            " [0.0 0.0 1.0 -1.901801144700799 -1.4204636155515822]\n",
            " [1.0 0.0 0.0 1.1475343068237056 1.2326533634535488]\n",
            " [0.0 1.0 0.0 1.4379472069688966 1.5749910381638883]\n",
            " [1.0 0.0 0.0 -0.7401495441200352 -0.5646194287757336]]\n"
          ]
        }
      ]
    },
    {
      "cell_type": "code",
      "source": [
        "print(x_test)"
      ],
      "metadata": {
        "colab": {
          "base_uri": "https://localhost:8080/"
        },
        "id": "aXKduzNRQZ31",
        "outputId": "2805df5b-735f-4147-8396-a3f01fd119c3"
      },
      "execution_count": 67,
      "outputs": [
        {
          "output_type": "stream",
          "name": "stdout",
          "text": [
            "[[0.0 1.0 0.0 -1.4661817944830127 -0.9069571034860731]\n",
            " [1.0 0.0 0.0 -0.44973664397484414 0.20564033932253023]]\n"
          ]
        }
      ]
    }
  ]
}